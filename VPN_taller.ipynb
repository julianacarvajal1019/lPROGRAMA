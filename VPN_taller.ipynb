{
  "nbformat": 4,
  "nbformat_minor": 0,
  "metadata": {
    "colab": {
      "provenance": [],
      "authorship_tag": "ABX9TyNjPKFJSWff4ijdE1NVl5ns",
      "include_colab_link": true
    },
    "kernelspec": {
      "name": "python3",
      "display_name": "Python 3"
    },
    "language_info": {
      "name": "python"
    }
  },
  "cells": [
    {
      "cell_type": "markdown",
      "metadata": {
        "id": "view-in-github",
        "colab_type": "text"
      },
      "source": [
        "<a href=\"https://colab.research.google.com/github/julianacarvajal1019/lPROGRAMA/blob/main/VPN_taller.ipynb\" target=\"_parent\"><img src=\"https://colab.research.google.com/assets/colab-badge.svg\" alt=\"Open In Colab\"/></a>"
      ]
    },
    {
      "cell_type": "markdown",
      "source": [
        "# VALOR PRESENTE NETO\n",
        "\n",
        "**¿QUE ES EL VALOR PRESENTE NETO?**\n",
        "\n",
        "---\n",
        "\n",
        "\n",
        "El método del valor presente neto (VPN) también es conocido como valor actual neto (VAN), se utiliza para evaluar inversiones actuales o potenciales y te permite calcular el rendimiento de inversión (ROI) esperado, fundamental para tener visibilidad de las finanzas del negocio.\n",
        "\n",
        "**METODO DEL VPN**\n",
        "\n",
        ">El método del valor presente neto incorpora el valor del dinero en determinado tiempo de flujos de efectivo netos de un negocio o proyecto. El objetivo del valor presente neto es realizar las comparaciones entre los periodos en los que el proyecto o negocio tuvo diferentes flujos de efectivo para determinar si conviene o no invertir en él.\n",
        ">El valor depende de la tasa de interés a la que se ajusta el cálculo del valor presente neto. El método para calcular el valor presente neto es con una razón aritmética, en donde el numerador es el dinero y el denominador corresponde a la tasa de interés.\n",
        "\n",
        "**VENTAJAS Y DESVENTAJAS**\n",
        "\n",
        "\n",
        "1.   Da más visibilidad.\n",
        "2.   Es variable.\n",
        "3. Tiene un alto grado de incertidumbre.\n",
        "4. Está sujeto a otros gastos.\n",
        "5. Ayuda a la toma de mejores decisiones.\n",
        "\n",
        "**VPN VS TIR**\n",
        "\n",
        "\n",
        "> El VPN calcula el valor presente del flujo de efectivo de un proyecto, mientras que la TIR o tasa interna de retorno se refiere a la tasa de descuento que hace que el valor presente neto (VPN) de cualquier inversión sea igual a cero y determina si es rentable o no.\n",
        "\n",
        "***En esta fórmula:***\n",
        "\n",
        "\n",
        "*Flujo de caja:* Son los ingresos y egresos de efectivo de un proyecto\n",
        "\n",
        "*r*: Es la tasa de descuento, que se utiliza para restar valor al dinero futuro en el presente\n",
        "\n",
        "t: Es el periodo de tiempo, que puede ser anual, mensual, semanal o diario\n",
        "\n",
        "*Inversión inicial: *Es el monto que se desembolsa al inicio del proyecto\n",
        "El VPN es una herramienta que se utiliza para evaluar la rentabilidad de un proyecto.\n",
        "\n",
        "Para calcularlo, se deben considerar los siguientes pasos:\n",
        "1. Definir el periodo de tiempo\n",
        "2. Analizar el flujo de efectivo\n",
        "3. Elegir una tasa de descuento\n",
        "4. Aplicar la fórmula\n",
        "\n",
        "\n",
        "\n",
        "![FORMULA](https://tiie.com.mx/wp-content/uploads/vpn-formula.gif)\n",
        "\n",
        "**Ejemplo de VPN para cada año de un proyecto**\n",
        "\n",
        "---\n",
        "\n",
        "\n",
        "\n",
        ">Supongamos que queremos invertir en el negocio de una cadena de zapaterías la cantidad de 50.000 USD. Nos prometen que vamos a recibir 7500 USD el primer año, 12.000 USD el segundo año, 20.000 USD el tercer año y 25.000 USD el cuarto año. Con una tasa de descuento de 4 %, ¿cuál será el valor presente neto de nuestra inversión?\n",
        "\n",
        "*Calculemos los valores presentes para cada año del proyecto:*\n",
        "\n",
        "Año 1: 7500 / ( 1 + 0.04) ^ 1 = 7211 USD\n",
        "\n",
        "Año 2: 12.000 / ( 1 + 0.04) ^ 2 = 11.538 USD\n",
        "\n",
        "Año 3: 20.000 / ( 1 + 0.04) ^ 3 = 19.230 USD\n",
        "\n",
        "Año 4: 25.000 / ( 1 + 0.04) ^ 4 = 24.038 USD\n",
        "\n",
        "Encuentra la suma de estos valores presentes y resta la cantidad de inversión inicial para encontrar el valor presente neto.\n",
        "\n",
        "VPN = (7211 + 11.538 + 19.230 + 24.038) - 50.000\n",
        "\n",
        "VPN = 12.017 USD\n",
        "\n",
        "[**REFERENCIA**](https://blog.hubspot.es/sales/que-es-valor-presente-neto#que-es)\n",
        "\n",
        "\n"
      ],
      "metadata": {
        "id": "-MdtOS5EZOyC"
      }
    },
    {
      "cell_type": "code",
      "execution_count": null,
      "metadata": {
        "id": "Pjc1eNdxY3ba"
      },
      "outputs": [],
      "source": []
    }
  ]
}